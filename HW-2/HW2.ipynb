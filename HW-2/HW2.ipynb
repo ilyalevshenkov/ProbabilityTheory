{
 "cells": [
  {
   "cell_type": "markdown",
   "id": "3578eafa-68bd-4984-b6dc-68eb90126c1c",
   "metadata": {},
   "source": [
    "Домашнее задание 2."
   ]
  },
  {
   "cell_type": "code",
   "execution_count": 4,
   "id": "64f689cb-66c9-45d6-9124-5d2ad17c3239",
   "metadata": {},
   "outputs": [],
   "source": [
    "import pandas as pd\n",
    "import numpy as np\n",
    "from math import factorial as fl"
   ]
  },
  {
   "cell_type": "markdown",
   "id": "03e0b0ac-0bae-4cf2-a8b2-83309247d0bb",
   "metadata": {},
   "source": [
    "Задача 1. \n",
    "Вероятность того, что стрелок попадет в мишень, выстрелив один раз, равна 0.8. Стрелок выстрелил 100 раз. Найдите вероятность того, что стрелок попадет в цель ровно 85 раз.\n",
    "\n",
    "Используем биноминальное распределение P где:\n",
    " k = 85\n",
    " n = 100\n",
    " p = 0.8\n",
    " q = 1 - p = 1 - 0.8 = 0.2\n"
   ]
  },
  {
   "cell_type": "code",
   "execution_count": 5,
   "id": "4c1c45db-4345-49c2-9f36-e11f70f8a965",
   "metadata": {},
   "outputs": [
    {
     "name": "stdout",
     "output_type": "stream",
     "text": [
      "Вероятность того, что стрелок из ста выстрелов попадет в мишень ровно 85 раз = 0.0481\n"
     ]
    }
   ],
   "source": [
    "P100 = (fl(100) / (fl(85) * fl(100 - 85))) * 0.8 ** 85 * 0.2 ** (100 - 85)\n",
    "print(f'Вероятность того, что стрелок из ста выстрелов попадет в мишень ровно 85 раз = {P100 :.4f}')"
   ]
  },
  {
   "cell_type": "markdown",
   "id": "3059563e-44e6-41c9-900b-aba235189347",
   "metadata": {},
   "source": [
    "Задача 2. \n",
    "Вероятность того, что лампочка перегорит в течение первого дня эксплуатации, равна 0.0004. В жилом комплексе после ремонта в один день включили 5000 новых лампочек. \n",
    "Какова вероятность, что ни одна из них не перегорит в первый день? \n",
    "Какова вероятность, что перегорят ровно две?\n",
    "\n",
    "А - не перегорела ни одна лампочка\n",
    "P(A) = 1 - q**n"
   ]
  },
  {
   "cell_type": "code",
   "execution_count": 6,
   "id": "9c6fd911-5a03-485b-8171-134d8f188562",
   "metadata": {},
   "outputs": [
    {
     "name": "stdout",
     "output_type": "stream",
     "text": [
      "Вероятность того, что не перегорит ни одна лампочка = 0.865\n"
     ]
    }
   ],
   "source": [
    "P = 1 - (1 - 0.0004) ** 5000\n",
    "print(f'Вероятность того, что не перегорит ни одна лампочка = {P :.3f}')"
   ]
  },
  {
   "cell_type": "markdown",
   "id": "6110b0bd-e5b5-40fa-a8d3-c224861246bc",
   "metadata": {},
   "source": [
    "Задача 3. \n",
    "Монету подбросили 144 раза. Какова вероятность, что орел выпадет ровно 70 раз?\n",
    "\n",
    "n = 144\n",
    "k = 70\n",
    "p = 0.5\n",
    "q = 0.5"
   ]
  },
  {
   "cell_type": "code",
   "execution_count": 7,
   "id": "a925265c-75c2-4d60-a323-84053c6978ff",
   "metadata": {},
   "outputs": [
    {
     "name": "stdout",
     "output_type": "stream",
     "text": [
      "Вероятность того, что орел выпадет ровно 70 раз = 0.0628\n"
     ]
    }
   ],
   "source": [
    "P144 = (fl(144) / (fl(70) * fl(144 - 70))) * 0.5 ** 70 * 0.5 ** (144 - 70)\n",
    "print(f'Вероятность того, что орел выпадет ровно 70 раз = {P144 :.4f}')"
   ]
  },
  {
   "cell_type": "markdown",
   "id": "59624097-e005-4664-9428-95b5ca2bd780",
   "metadata": {},
   "source": [
    "Задача 4. \n",
    "В первом ящике находится 10 мячей, из которых 7 - белые. Во втором ящике - 11 мячей, из которых 9 белых. Из каждого ящика вытаскивают случайным образом по два мяча. \n",
    "1) Какова вероятность того, что все мячи белые? \n",
    "2) Какова вероятность того, что ровно два мяча белые? \n",
    "3) Какова вероятность того, что хотя бы один мяч белый?"
   ]
  },
  {
   "cell_type": "markdown",
   "id": "198b4f07-d872-44c2-bcbc-6cf17c99ea93",
   "metadata": {},
   "source": [
    "А1 - мячи, вынутые из первого ящика все белые\n",
    "А2 - мячи, вынутые из второго ящика все белые\n",
    "А = А1 * А2 - все мячи белые\n"
   ]
  },
  {
   "cell_type": "code",
   "execution_count": 9,
   "id": "f4449206-3b70-4db7-b123-23ffdf48e65f",
   "metadata": {},
   "outputs": [
    {
     "name": "stdout",
     "output_type": "stream",
     "text": [
      "1) Вероятность того, что все мячи белые = 0.305\n"
     ]
    }
   ],
   "source": [
    "PA1 = (fl(7) / (fl(2)*fl(7 - 2))) / (fl(10) / (fl(2)*fl(10 - 2)))\n",
    "PA2 = (fl(9) / (fl(2)*fl(9 - 2))) / (fl(11) / (fl(2)*fl(11 - 2)))\n",
    "print(f'1) Вероятность того, что все мячи белые = {PA1 * PA2 :.3f}')"
   ]
  },
  {
   "cell_type": "markdown",
   "id": "763b54a7-a9d5-4692-8570-c2951e6969f9",
   "metadata": {},
   "source": [
    "A11 - из первого ящика вынули два белых мяча\n",
    "А12 - из второго ящика вынули только черные мячи\n",
    "А21 - из второго ящика вынули два белых мяча\n",
    "А22 - из первого ящика вынули только черные мячи\n",
    "А31 - из первого ящика вынули один белый мячи\n",
    "А32 - из второго ящика вынули один белый мячи\n",
    "\n",
    "А = А11 * А12 + А21 * А22 + А31 * А32 - вынули ровно два белых мяча\n",
    "\n"
   ]
  },
  {
   "cell_type": "code",
   "execution_count": 13,
   "id": "3d035493-b598-4d77-8057-bbd34bf39a61",
   "metadata": {},
   "outputs": [],
   "source": [
    "PA11A12 = (fl(7) / (fl(2)*fl(7 - 2))) / (fl(10) / (fl(2)*fl(10 - 2))) * (fl(2) / (fl(2)*fl(2 - 2))) / (fl(11) / (fl(2)*fl(11 - 2)))"
   ]
  },
  {
   "cell_type": "markdown",
   "id": "a0ceff2d-c658-4f6b-a4d1-9672a576ff38",
   "metadata": {},
   "source": []
  },
  {
   "cell_type": "code",
   "execution_count": 14,
   "id": "c7f84989-5158-403b-94c0-dc9fd40d2dff",
   "metadata": {},
   "outputs": [],
   "source": [
    "PA21A22 = (fl(3) / (fl(2)*fl(3 - 2))) / (fl(10) / (fl(2)*fl(10 - 2))) * (fl(9) / (fl(2)*fl(9 - 2))) / (fl(11) / (fl(2)*fl(11 - 2)))"
   ]
  },
  {
   "cell_type": "code",
   "execution_count": null,
   "id": "c1b00d31-cd90-4cf9-b905-cb903ee5c6ac",
   "metadata": {},
   "outputs": [],
   "source": []
  },
  {
   "cell_type": "code",
   "execution_count": 15,
   "id": "8556da38-61b0-430c-b16c-073b400ca69d",
   "metadata": {},
   "outputs": [],
   "source": [
    "PA31 = (fl(7) / (fl(1)*fl(7 - 1)) * fl(3)) / (fl(1)*fl(3 - 1)) / (fl(10) / (fl(2)*fl(10 - 2))) \n",
    "PA32 = (fl(9) / (fl(1)*fl(9 - 1)) * fl(2)) / (fl(1)*fl(2 - 1)) / (fl(11) / (fl(2)*fl(11 - 2)))"
   ]
  },
  {
   "cell_type": "code",
   "execution_count": 18,
   "id": "1aa72d95-3087-47a0-96fc-a4a55c74373f",
   "metadata": {},
   "outputs": [
    {
     "name": "stdout",
     "output_type": "stream",
     "text": [
      "2) Вероятность того, что вынут ровно два белых мяча = 0.205\n"
     ]
    }
   ],
   "source": [
    "PA = PA11A12 + PA21A22 + PA31 * PA32\n",
    "print(f'2) Вероятность того, что вынут ровно два белых мяча = {PA :.3f}')"
   ]
  },
  {
   "cell_type": "code",
   "execution_count": 19,
   "id": "ee2269a1-fd27-441d-9c59-bcd0f380e124",
   "metadata": {},
   "outputs": [
    {
     "name": "stdout",
     "output_type": "stream",
     "text": [
      "3) Вероятность того, что вытянут хотя бы один белый мяч = 0.999\n"
     ]
    }
   ],
   "source": [
    "PA = 1 - (fl(3) / (fl(2)*fl(3 - 2))) / (fl(10) / (fl(2)*fl(10 - 2))) * (fl(2) / (fl(2)*fl(2 - 2))) / (fl(11) / (fl(2)*fl(11 - 2)))\n",
    "print(f'3) Вероятность того, что вытянут хотя бы один белый мяч = {PA :.3f}')"
   ]
  },
  {
   "cell_type": "code",
   "execution_count": null,
   "id": "306c0443-d668-4736-821b-516f6725a658",
   "metadata": {},
   "outputs": [],
   "source": []
  }
 ],
 "metadata": {
  "kernelspec": {
   "display_name": "Python 3 (ipykernel)",
   "language": "python",
   "name": "python3"
  },
  "language_info": {
   "codemirror_mode": {
    "name": "ipython",
    "version": 3
   },
   "file_extension": ".py",
   "mimetype": "text/x-python",
   "name": "python",
   "nbconvert_exporter": "python",
   "pygments_lexer": "ipython3",
   "version": "3.9.13"
  }
 },
 "nbformat": 4,
 "nbformat_minor": 5
}
