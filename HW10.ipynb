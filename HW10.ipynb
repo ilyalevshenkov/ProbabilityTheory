{
 "cells": [
  {
   "cell_type": "markdown",
   "id": "8fe41fb8",
   "metadata": {},
   "source": [
    "ДЗ №10. Дисперсионный анализ.\n",
    "\n",
    "Задание №1.\n",
    "Провести дисперсионный анализ для определения того, есть ли различия среднего роста среди взрослых футболистов, хоккеистов и штангистов.\n",
    "Даны значения роста в трех группах случайно выбранных спортсменов:\n",
    "Футболисты: 173, 175, 180, 178, 177, 185, 183, 182.\n",
    "Хоккеисты: 177, 179, 180, 188, 177, 172, 171, 184, 180.\n",
    "Штангисты: 172, 173, 169, 177, 166, 180, 178, 177, 172, 166, 170."
   ]
  },
  {
   "cell_type": "code",
   "execution_count": 1,
   "id": "91507768",
   "metadata": {},
   "outputs": [],
   "source": [
    "import scipy.stats as stats\n",
    "import numpy as np"
   ]
  },
  {
   "cell_type": "code",
   "execution_count": 2,
   "id": "4e33b414",
   "metadata": {},
   "outputs": [],
   "source": [
    "football_players=np.array([173, 175, 180, 178, 177, 185, 183, 182])\n",
    "hockey_players=np.array([177, 179, 180, 188, 177, 172, 171, 184, 180])\n",
    "weightlifters=np.array([172, 173, 169, 177, 166, 180, 178, 177, 172, 166, 170])"
   ]
  },
  {
   "cell_type": "code",
   "execution_count": 3,
   "id": "161def95",
   "metadata": {},
   "outputs": [],
   "source": [
    "alpha=0.05 "
   ]
  },
  {
   "cell_type": "markdown",
   "id": "6d89089d",
   "metadata": {},
   "source": [
    "Проверим данные на нормальность распределения"
   ]
  },
  {
   "cell_type": "code",
   "execution_count": 4,
   "id": "b3833b60",
   "metadata": {},
   "outputs": [
    {
     "data": {
      "text/plain": [
       "ShapiroResult(statistic=0.9775082468986511, pvalue=0.9495404362678528)"
      ]
     },
     "execution_count": 4,
     "metadata": {},
     "output_type": "execute_result"
    }
   ],
   "source": [
    "stats.shapiro(football_players)"
   ]
  },
  {
   "cell_type": "code",
   "execution_count": 5,
   "id": "3cbaed95",
   "metadata": {},
   "outputs": [
    {
     "data": {
      "text/plain": [
       "ShapiroResult(statistic=0.9579196572303772, pvalue=0.7763139009475708)"
      ]
     },
     "execution_count": 5,
     "metadata": {},
     "output_type": "execute_result"
    }
   ],
   "source": [
    "stats.shapiro(hockey_players)"
   ]
  },
  {
   "cell_type": "code",
   "execution_count": 6,
   "id": "251edfe5",
   "metadata": {},
   "outputs": [
    {
     "data": {
      "text/plain": [
       "ShapiroResult(statistic=0.9386808276176453, pvalue=0.5051165223121643)"
      ]
     },
     "execution_count": 6,
     "metadata": {},
     "output_type": "execute_result"
    }
   ],
   "source": [
    "stats.shapiro(weightlifters)"
   ]
  },
  {
   "cell_type": "markdown",
   "id": "5e188cb4",
   "metadata": {},
   "source": [
    " p-value для каждой выборки больше  𝛂- принимаем, что данные распределены нормально.\n",
    "\n",
    "Проверим равенство дисперсий."
   ]
  },
  {
   "cell_type": "code",
   "execution_count": 7,
   "id": "1b2190ac",
   "metadata": {},
   "outputs": [
    {
     "data": {
      "text/plain": [
       "BartlettResult(statistic=0.4640521043406442, pvalue=0.7929254656083131)"
      ]
     },
     "execution_count": 7,
     "metadata": {},
     "output_type": "execute_result"
    }
   ],
   "source": [
    "stats.bartlett(football_players, hockey_players, weightlifters)"
   ]
  },
  {
   "cell_type": "markdown",
   "id": "03a66ee2",
   "metadata": {},
   "source": [
    " p-value для каждой выборки больше  𝛂- принимаем, что дисперсии равны.\n",
    " \n",
    "Теперь можно провести однофакторный дисперсионный анализ.\n",
    "Сформулируем гипотезы:\n",
    "\n",
    "H0: 𝛍1= 𝛍2= 𝛍3 - различий среднего роста среди взрослых футболистов, хоккеистов и штангистов нет.\n",
    "H1: 𝛍1≠ 𝛍2≠ 𝛍3 - - различия среднего роста среди взрослых футболистов, хоккеистов и штангистов есть"
   ]
  },
  {
   "cell_type": "code",
   "execution_count": 8,
   "id": "1a4a7dc3",
   "metadata": {},
   "outputs": [
    {
     "data": {
      "text/plain": [
       "F_onewayResult(statistic=5.500053450812596, pvalue=0.010482206918698694)"
      ]
     },
     "execution_count": 8,
     "metadata": {},
     "output_type": "execute_result"
    }
   ],
   "source": [
    "stats.f_oneway(football_players, hockey_players, weightlifters)"
   ]
  },
  {
   "cell_type": "markdown",
   "id": "7562abb4",
   "metadata": {},
   "source": [
    "Получили значение p-value= 0.01048 на уровне статистической значимости  значит отвергаем нулевую гипотезу.\n",
    "Средний рост футболистов, хоккеистов и штангистов различен."
   ]
  }
 ],
 "metadata": {
  "kernelspec": {
   "display_name": "Python 3 (ipykernel)",
   "language": "python",
   "name": "python3"
  },
  "language_info": {
   "codemirror_mode": {
    "name": "ipython",
    "version": 3
   },
   "file_extension": ".py",
   "mimetype": "text/x-python",
   "name": "python",
   "nbconvert_exporter": "python",
   "pygments_lexer": "ipython3",
   "version": "3.9.13"
  }
 },
 "nbformat": 4,
 "nbformat_minor": 5
}
