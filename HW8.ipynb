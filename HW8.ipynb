{
 "cells": [
  {
   "cell_type": "markdown",
   "id": "65a1fb2d",
   "metadata": {},
   "source": [
    "ДЗ №8. Корреляционный анализ.\n",
    "\n",
    "Задание №1. \n",
    "Даны значения величины заработной платы заемщиков банка (zp) и значения их поведенческого кредитного скоринга (ks):\n",
    "zp = [35, 45, 190, 200, 40, 70, 54, 150, 120, 110],\n",
    "ks = [401, 574, 874, 919, 459, 739, 653, 902, 746, 832].\n",
    "Найдите ковариацию этих двух величин с помощью элементарных действий, а затем с помощью функции cov из numpy\n",
    "Полученные значения должны быть равны.\n",
    "Найдите коэффициент корреляции Пирсона с помощью ковариации и среднеквадратичных отклонений двух признаков, а затем с использованием функций из библиотек numpy и pandas."
   ]
  },
  {
   "cell_type": "code",
   "execution_count": 41,
   "id": "c4636b7f",
   "metadata": {},
   "outputs": [],
   "source": [
    "import numpy as np\n",
    "import pandas as pd\n",
    "from scipy import stats\n",
    "import matplotlib.pyplot as plt"
   ]
  },
  {
   "cell_type": "code",
   "execution_count": 42,
   "id": "2b20996d",
   "metadata": {},
   "outputs": [
    {
     "data": {
      "image/png": "[encoded data removed]",
      "text/plain": [
       "<Figure size 640x480 with 1 Axes>"
      ]
     },
     "metadata": {},
     "output_type": "display_data"
    }
   ],
   "source": [
    "zp = np.array([35, 45, 190, 200, 40, 70, 54, 150, 120, 110])\n",
    "ks = np.array([401, 574, 874, 919, 459, 739, 653, 902, 746, 832])\n",
    "plt.scatter(zp,ks)\n",
    "plt.xlabel('Величина заработной платы \"ZP\"')\n",
    "plt.ylabel('Поведенческий кредитный скоринг \"KS\"', rotation=90)\n",
    "plt.show()"
   ]
  },
  {
   "cell_type": "markdown",
   "id": "78d06819",
   "metadata": {},
   "source": [
    "Зависимость между величиной ЗП и кредитным скорингом - линейная. Ожидаем, что между этими данными существует положительная корреляция."
   ]
  },
  {
   "cell_type": "markdown",
   "id": "bc174b77",
   "metadata": {},
   "source": [
    "Вычисление ковариации с помощью элементарных действий:\n",
    "\n",
    "Cov(xy) = M(xy) - M(x) * M(y)"
   ]
  },
  {
   "cell_type": "code",
   "execution_count": 43,
   "id": "3ff87422",
   "metadata": {},
   "outputs": [
    {
     "data": {
      "text/plain": [
       "9157.839999999997"
      ]
     },
     "execution_count": 43,
     "metadata": {},
     "output_type": "execute_result"
    }
   ],
   "source": [
    "cov_zp_ks = np.mean(zp*ks) - np.mean(zp)*np.mean(ks)\n",
    "cov_zp_ks    "
   ]
  },
  {
   "cell_type": "markdown",
   "id": "cac21608",
   "metadata": {},
   "source": [
    "Вычисление ковариации через функцию:"
   ]
  },
  {
   "cell_type": "code",
   "execution_count": 44,
   "id": "6525596e",
   "metadata": {},
   "outputs": [
    {
     "data": {
      "text/plain": [
       "9157.84"
      ]
     },
     "execution_count": 44,
     "metadata": {},
     "output_type": "execute_result"
    }
   ],
   "source": [
    "cov_zp_ks = np.cov(zp, ks, ddof=0)[0, 1]\n",
    "cov_zp_ks"
   ]
  },
  {
   "cell_type": "markdown",
   "id": "07655915",
   "metadata": {},
   "source": [
    "Вычислим коэффициент корреляции Пирсона с помощью ковариации и среднеквадратичных отклонений двух признаков:\n",
    "\n",
    "cor(zp,ks) = Cov(zp,ks) / {(var(zp)**0,5) * (var(ks)**0,5)}"
   ]
  },
  {
   "cell_type": "code",
   "execution_count": 45,
   "id": "b6112c3a",
   "metadata": {},
   "outputs": [
    {
     "data": {
      "text/plain": [
       "0.8874900920739162"
      ]
     },
     "execution_count": 45,
     "metadata": {},
     "output_type": "execute_result"
    }
   ],
   "source": [
    "corr = cov_zp_ks / (np.std(zp) * np.std(ks))\n",
    "corr"
   ]
  },
  {
   "cell_type": "markdown",
   "id": "78083c96",
   "metadata": {},
   "source": [
    "Numpy"
   ]
  },
  {
   "cell_type": "code",
   "execution_count": 46,
   "id": "fa7fded6",
   "metadata": {},
   "outputs": [
    {
     "data": {
      "text/plain": [
       "0.8874900920739162"
      ]
     },
     "execution_count": 46,
     "metadata": {},
     "output_type": "execute_result"
    }
   ],
   "source": [
    "corr_numpy = np.corrcoef(zp, ks)[0][1]\n",
    "corr_numpy"
   ]
  },
  {
   "cell_type": "markdown",
   "id": "083502a8",
   "metadata": {},
   "source": [
    "Pandas"
   ]
  },
  {
   "cell_type": "code",
   "execution_count": 47,
   "id": "03e83666",
   "metadata": {},
   "outputs": [
    {
     "data": {
      "text/plain": [
       "0.8874900920739162"
      ]
     },
     "execution_count": 47,
     "metadata": {},
     "output_type": "execute_result"
    }
   ],
   "source": [
    "corr_pandas = pd.Series(zp).corr(pd.Series(ks), method='pearson')\n",
    "corr_pandas"
   ]
  },
  {
   "cell_type": "markdown",
   "id": "8e6ce7e6",
   "metadata": {},
   "source": [
    "Задание №2.\n",
    "Измерены значения IQ выборки студентов, обучающихся в местных технических вузах:\n",
    "131, 125, 115, 122, 131, 115, 107, 99, 125, 111.\n",
    "Известно, что в генеральной совокупности IQ распределен нормально.\n",
    "Найдите доверительный интервал для математического ожидания с надежностью 0.95."
   ]
  },
  {
   "cell_type": "code",
   "execution_count": 48,
   "id": "6593f1c6",
   "metadata": {},
   "outputs": [],
   "source": [
    "iq = np.array([131, 125, 115, 122, 131, 115, 107, 99, 125, 111])\n",
    "alpha = 0.05"
   ]
  },
  {
   "cell_type": "markdown",
   "id": "7cecc8bc",
   "metadata": {},
   "source": [
    "Для расчета доверительного интервала при неизвесной СКО будем использовать t-критерий и формулу для среднего арифметического:\n",
    " \n",
    " X(ср.арифм.) ± t (𝛂/2) * 𝜎/√n"
   ]
  },
  {
   "cell_type": "code",
   "execution_count": 49,
   "id": "bb1ea784",
   "metadata": {},
   "outputs": [
    {
     "name": "stdout",
     "output_type": "stream",
     "text": [
      " Размер выборки: n = 10\n",
      " Среднее квадратическое отклонение по выборке(несмещенное): 10.55\n",
      " Среднее выборочное: 118.10\n"
     ]
    }
   ],
   "source": [
    "n = iq.size\n",
    "std = iq.std(ddof=1)\n",
    "mean = iq.mean()\n",
    "print(f' Размер выборки: n = {n}\\n'f' Среднее квадратическое отклонение по выборке(несмещенное): {std:.2f}\\n'f' Среднее выборочное: {mean:.2f}')"
   ]
  },
  {
   "cell_type": "markdown",
   "id": "1139f2b6",
   "metadata": {},
   "source": [
    "Значениe t и отклонение:"
   ]
  },
  {
   "cell_type": "code",
   "execution_count": 50,
   "id": "3508a66a",
   "metadata": {},
   "outputs": [
    {
     "data": {
      "text/plain": [
       "(7.543916348412745, 2.2621571627409915)"
      ]
     },
     "execution_count": 50,
     "metadata": {},
     "output_type": "execute_result"
    }
   ],
   "source": [
    "t = stats.t.ppf(1 - alpha / 2, n - 1)\n",
    "d = t * std / (n) ** 0.5\n",
    "d,t"
   ]
  },
  {
   "cell_type": "markdown",
   "id": "cfca56d1",
   "metadata": {},
   "source": [
    "Доверительный интервал:"
   ]
  },
  {
   "cell_type": "code",
   "execution_count": 51,
   "id": "414ea83f",
   "metadata": {},
   "outputs": [
    {
     "name": "stdout",
     "output_type": "stream",
     "text": [
      " Доверительный интервал для математического ожидания с надежностью 0.95 составляет: 110.56; 125.64\n"
     ]
    }
   ],
   "source": [
    "min = mean - d\n",
    "max = mean + d\n",
    "print(f' Доверительный интервал для математического ожидания с надежностью 0.95 составляет:{min: .2f};{max: .2f}')"
   ]
  },
  {
   "cell_type": "markdown",
   "id": "c68b7900",
   "metadata": {},
   "source": [
    "Задание №3. \n",
    "Известно, что рост футболистов в сборной распределен нормально с дисперсией генеральной совокупности, равной 25 кв.см. Объем выборки равен 27, среднее выборочное составляет 174.2. Найдите доверительный интервал для математического ожидания с надежностью 0.95."
   ]
  },
  {
   "cell_type": "markdown",
   "id": "195f43b4",
   "metadata": {},
   "source": [
    "Для расчета доверительного интервала при известной СКО будем использовать t-критерий и формулу для среднего арифметического:\n",
    "\n",
    "X(ср.арифм.) ± t (𝛂/2) * 𝜎/√n\n"
   ]
  },
  {
   "cell_type": "code",
   "execution_count": 61,
   "id": "7de882eb",
   "metadata": {},
   "outputs": [
    {
     "data": {
      "text/plain": [
       "(2.055529438642871, 1.977934124546103)"
      ]
     },
     "execution_count": 61,
     "metadata": {},
     "output_type": "execute_result"
    }
   ],
   "source": [
    "var = 25\n",
    "n = 27\n",
    "mean = 174.2\n",
    "std = var**0.5\n",
    "a = 0.05\n",
    "t = stats.t.ppf (1 - a/2, n - 1)\n",
    "d = z * std / (n ** 0.5)\n",
    "t, d"
   ]
  },
  {
   "cell_type": "code",
   "execution_count": 63,
   "id": "537dbdb6",
   "metadata": {},
   "outputs": [
    {
     "name": "stdout",
     "output_type": "stream",
     "text": [
      " Доверительный интервал для математического ожидания с надежностью 0.95 составляет: 172.22; 176.18\n"
     ]
    }
   ],
   "source": [
    "min = mean - d\n",
    "max = mean + d\n",
    "print(f' Доверительный интервал для математического ожидания с надежностью 0.95 составляет:{min: .2f};{max: .2f}')"
   ]
  },
  {
   "cell_type": "markdown",
   "id": "1c91e849",
   "metadata": {},
   "source": []
  }
 ],
 "metadata": {
  "kernelspec": {
   "display_name": "Python 3 (ipykernel)",
   "language": "python",
   "name": "python3"
  },
  "language_info": {
   "codemirror_mode": {
    "name": "ipython",
    "version": 3
   },
   "file_extension": ".py",
   "mimetype": "text/x-python",
   "name": "python",
   "nbconvert_exporter": "python",
   "pygments_lexer": "ipython3",
   "version": "3.9.13"
  }
 },
 "nbformat": 4,
 "nbformat_minor": 5
}
