{
 "cells": [
  {
   "cell_type": "markdown",
   "id": "671c50c5",
   "metadata": {},
   "source": [
    "Урок 3. EDA (exploratory data analysis) или Разведочный анализ.\n",
    "\n",
    "Задача №1.\n",
    "Даны значения зарплат из выборки выпускников: 100, 80, 75, 77, 89, 33, 45, 25, 65, 17, 30, 24, 57, 55, 70, 75, 65, 84, 90, 150. Посчитать (желательно без использования статистических методов наподобие std, var, mean) среднее арифметическое, среднее квадратичное отклонение, смещенную и несмещенную оценки дисперсий для данной выборки."
   ]
  },
  {
   "cell_type": "code",
   "execution_count": 1,
   "id": "1e015b0e",
   "metadata": {},
   "outputs": [],
   "source": [
    "import pandas as pd\n",
    "import numpy as np\n",
    "from math import factorial as fl"
   ]
  },
  {
   "cell_type": "code",
   "execution_count": 2,
   "id": "fd075d25",
   "metadata": {},
   "outputs": [],
   "source": [
    "data = pd.Series([100, 80, 75, 77, 89, 33, 45, 25, 65, 17, 30, 24, 57, 55, 70, 75, 65, 84, 90, 150])"
   ]
  },
  {
   "cell_type": "code",
   "execution_count": 13,
   "id": "48ac7a4c",
   "metadata": {},
   "outputs": [
    {
     "data": {
      "text/plain": [
       "65.3"
      ]
     },
     "execution_count": 13,
     "metadata": {},
     "output_type": "execute_result"
    }
   ],
   "source": [
    "'1) Среднее арифметическое'\n",
    "ME = data.sum() / data.count()\n",
    "ME"
   ]
  },
  {
   "cell_type": "code",
   "execution_count": 14,
   "id": "f12130fb",
   "metadata": {},
   "outputs": [
    {
     "data": {
      "text/plain": [
       "30.823854398825596"
      ]
     },
     "execution_count": 14,
     "metadata": {},
     "output_type": "execute_result"
    }
   ],
   "source": [
    "'2)Cреднее квадратичное отклонение'\n",
    "SD = np.sqrt(((data - ME) ** 2).sum() / data.count())\n",
    "SD"
   ]
  },
  {
   "cell_type": "code",
   "execution_count": 5,
   "id": "c24bfad6",
   "metadata": {},
   "outputs": [
    {
     "data": {
      "text/plain": [
       "950.11"
      ]
     },
     "execution_count": 5,
     "metadata": {},
     "output_type": "execute_result"
    }
   ],
   "source": [
    "'3) Cмещенная дисперсия'\n",
    "variance = ((data - ME) ** 2).sum() / data.count()\n",
    "variance"
   ]
  },
  {
   "cell_type": "code",
   "execution_count": 15,
   "id": "28f709cd",
   "metadata": {},
   "outputs": [
    {
     "data": {
      "text/plain": [
       "1000.1157894736842"
      ]
     },
     "execution_count": 15,
     "metadata": {},
     "output_type": "execute_result"
    }
   ],
   "source": [
    "'3) Несмещенная дисперсия'\n",
    "variance2 = ((data - ME) ** 2).sum() / (data.count() - 1)\n",
    "variance2"
   ]
  },
  {
   "cell_type": "markdown",
   "id": "d2c4247d",
   "metadata": {},
   "source": [
    "Задача №2.\n",
    "В первом ящике находится 8 мячей, из которых 5 - белые. Во втором ящике - 12 мячей, из которых 5 белых. Из первого ящика вытаскивают случайным образом два мяча, из второго - 4. Какова вероятность того, что 3 мяча белые?\n",
    "\n",
    "А11 - из первого ящика вынули два белых мяча\n",
    "А12 - из второго ящика вынули один белый мяч\n",
    "А21 - из первого ящика вынули один белый мяч\n",
    "А22 - из второго ящика вынули два белых мяча\n",
    "А31 - из первого ящика вынули ноль белых мячей\n",
    "А32 - из второго ящика вынули три белых мяча\n",
    "А - из ящиков вынули три белых мяча\n",
    "\n",
    "А = А11* А12 + А21* А22 + А31* А32"
   ]
  },
  {
   "cell_type": "code",
   "execution_count": 16,
   "id": "9f210aff",
   "metadata": {},
   "outputs": [],
   "source": [
    "PA11 = (fl(5) / (fl(2) * fl(5 - 2))) * (fl(3) / (fl(0) * fl(3 - 0))) / (fl(8) / (fl(2) * fl(8 - 2)))\n",
    "PA12 = (fl(5) / (fl(1) * fl(5 - 1))) * (fl(7) / (fl(3) * fl(7 - 3))) / (fl(12) / (fl(4) * fl(12 - 4)))\n",
    "PA21 = (fl(5) / (fl(1) * fl(5 - 1))) * (fl(3) / (fl(1) * fl(3 - 1))) / (fl(8) / (fl(2) * fl(8 - 2)))\n",
    "PА22 = (fl(5) / (fl(2) * fl(5 - 2))) * (fl(7) / (fl(2) * fl(7 - 2))) / (fl(12) / (fl(4) * fl(12 - 4)))\n",
    "PA31 = (fl(5) / (fl(0) * fl(5 - 0))) * (fl(3) / (fl(2) * fl(3 - 2))) / (fl(8) / (fl(2) * fl(8 - 2)))\n",
    "PA32 = (fl(5) / (fl(3) * fl(5 - 3))) * (fl(7) / (fl(1) * fl(7 - 1))) / (fl(12) / (fl(4) * fl(12 - 4)))"
   ]
  },
  {
   "cell_type": "code",
   "execution_count": 17,
   "id": "238c1f28",
   "metadata": {},
   "outputs": [
    {
     "data": {
      "text/plain": [
       "0.3686868686868687"
      ]
     },
     "execution_count": 17,
     "metadata": {},
     "output_type": "execute_result"
    }
   ],
   "source": [
    "PA = PA11 * PA12 + PA21 * PА22 + PA31 * PA32\n",
    "PA"
   ]
  },
  {
   "cell_type": "markdown",
   "id": "f8a2dfec",
   "metadata": {},
   "source": [
    "Задача №3.\n",
    "На соревновании по биатлону один из трех спортсменов стреляет и попадает в мишень. Вероятность попадания для первого спортсмена равна 0.9, для второго — 0.8, для третьего — 0.6. Найти вероятность того, что выстрел произведен: a). первым спортсменом б). вторым спортсменом в). третьим спортсменом.\n",
    "\n",
    "А - мишень поражена\n",
    "А1 - первый стрелок попал в цель\n",
    "А2 - второй стрелок попал в цель\n",
    "А3 - третий стрелок попал в цель"
   ]
  },
  {
   "cell_type": "code",
   "execution_count": 18,
   "id": "f24d6c1c",
   "metadata": {},
   "outputs": [
    {
     "data": {
      "text/plain": [
       "0.7666666666666666"
      ]
     },
     "execution_count": 18,
     "metadata": {},
     "output_type": "execute_result"
    }
   ],
   "source": [
    "'Вероятность того, что мишень поражена'\n",
    "PA = 1 / 3 * 0.9 + 1 / 3 * 0.8 + 1 / 3 * 0.6\n",
    "PA"
   ]
  },
  {
   "cell_type": "code",
   "execution_count": 19,
   "id": "3e668c7b",
   "metadata": {},
   "outputs": [
    {
     "data": {
      "text/plain": [
       "0.391304347826087"
      ]
     },
     "execution_count": 19,
     "metadata": {},
     "output_type": "execute_result"
    }
   ],
   "source": [
    "'а) Вероятность того, что мишень поражена 1 спортсменом'\n",
    "PA1 = 1 / 3 * 0.9 / PA\n",
    "PA1"
   ]
  },
  {
   "cell_type": "code",
   "execution_count": 20,
   "id": "3df9ec51",
   "metadata": {},
   "outputs": [
    {
     "data": {
      "text/plain": [
       "0.3478260869565218"
      ]
     },
     "execution_count": 20,
     "metadata": {},
     "output_type": "execute_result"
    }
   ],
   "source": [
    "'б) Вероятность того, что мишень поражена 2 спортсменом'\n",
    "PA2 = 1 / 3 * 0.8 / PA\n",
    "PA2"
   ]
  },
  {
   "cell_type": "code",
   "execution_count": 21,
   "id": "a8cf8816",
   "metadata": {},
   "outputs": [
    {
     "data": {
      "text/plain": [
       "0.2608695652173913"
      ]
     },
     "execution_count": 21,
     "metadata": {},
     "output_type": "execute_result"
    }
   ],
   "source": [
    "'в) Вероятность того, что мишень поражена 3 спортсменом'\n",
    "PA3 = 1 / 3 * 0.6 / PA\n",
    "PA3"
   ]
  },
  {
   "cell_type": "markdown",
   "id": "4f8ceae5",
   "metadata": {},
   "source": [
    "Задача №4.\n",
    "В университет на факультеты A и B поступило равное количество студентов, а на факультет C студентов поступило столько же, сколько на A и B вместе. Вероятность того, что студент факультета A сдаст первую сессию, равна 0.8. Для студента факультета B эта вероятность равна 0.7, а для студента факультета C - 0.9. Студент сдал первую сессию. Какова вероятность, что он учится: a). на факультете A б). на факультете B в). на факультете C?\n",
    "\n",
    "А - Студент сдал первую сессию\n",
    "А1 - студент с факультета А\n",
    "А2 - студент с факультета В\n",
    "А3 - студент с факультета С\n"
   ]
  },
  {
   "cell_type": "code",
   "execution_count": 22,
   "id": "c7a52ba4",
   "metadata": {},
   "outputs": [
    {
     "data": {
      "text/plain": [
       "0.825"
      ]
     },
     "execution_count": 22,
     "metadata": {},
     "output_type": "execute_result"
    }
   ],
   "source": [
    "PA = 1 / 4 * 0.8 + 1 / 4 * 0.7 + 2 / 4 * 0.9\n",
    "PA"
   ]
  },
  {
   "cell_type": "code",
   "execution_count": 23,
   "id": "4fd0e14b",
   "metadata": {},
   "outputs": [
    {
     "data": {
      "text/plain": [
       "0.24242424242424246"
      ]
     },
     "execution_count": 23,
     "metadata": {},
     "output_type": "execute_result"
    }
   ],
   "source": [
    "'а) Вероятность, что студент с факультета А'\n",
    "PA1 = 1 / 4 * 0.8 / PA\n",
    "PA1"
   ]
  },
  {
   "cell_type": "code",
   "execution_count": 24,
   "id": "bdc117dd",
   "metadata": {},
   "outputs": [
    {
     "data": {
      "text/plain": [
       "0.21212121212121213"
      ]
     },
     "execution_count": 24,
     "metadata": {},
     "output_type": "execute_result"
    }
   ],
   "source": [
    "'б) Вероятность, что студент с факультета B'\n",
    "PA2 = 1 / 4 * 0.7 / PA\n",
    "PA2"
   ]
  },
  {
   "cell_type": "code",
   "execution_count": 25,
   "id": "f9a30b56",
   "metadata": {},
   "outputs": [
    {
     "data": {
      "text/plain": [
       "0.5454545454545455"
      ]
     },
     "execution_count": 25,
     "metadata": {},
     "output_type": "execute_result"
    }
   ],
   "source": [
    "'в) Вероятность, что студент с факультета С'\n",
    "PA3 = 2 / 4 * 0.9 / PA\n",
    "PA3"
   ]
  },
  {
   "cell_type": "markdown",
   "id": "6c695591",
   "metadata": {},
   "source": [
    "Задача №5.\n",
    "Устройство состоит из трех деталей. Для первой детали вероятность выйти из строя в первый месяц равна 0.1, для второй - 0.2, для третьей - 0.25. Какова вероятность того, что в первый месяц выйдут из строя: а). все детали б). только две детали в). хотя бы одна деталь г). от одной до двух деталей?\n",
    "\n",
    "А - из строя вышли все детали"
   ]
  },
  {
   "cell_type": "code",
   "execution_count": 26,
   "id": "ba3fcd85",
   "metadata": {},
   "outputs": [
    {
     "data": {
      "text/plain": [
       "0.005000000000000001"
      ]
     },
     "execution_count": 26,
     "metadata": {},
     "output_type": "execute_result"
    }
   ],
   "source": [
    "'а) Вероятность выхода из строя всех деталей'\n",
    "PA = 0.1 * 0.2 * 0.25\n",
    "PA"
   ]
  },
  {
   "cell_type": "markdown",
   "id": "8896a52a",
   "metadata": {},
   "source": [
    "\n",
    "B1 - из строя вышли первая и вторая деталь, но не вышла третья\n",
    "B2 - из строя вышла первая и третья деталь, но не вышла вторая\n",
    "B3 - из строя вышла вторая и третья деталь, но не вышла первая\n",
    "В = B1 + B2 + B3 - из строя вышло только две детали"
   ]
  },
  {
   "cell_type": "code",
   "execution_count": 27,
   "id": "433ebd6d",
   "metadata": {},
   "outputs": [
    {
     "data": {
      "text/plain": [
       "0.08000000000000002"
      ]
     },
     "execution_count": 27,
     "metadata": {},
     "output_type": "execute_result"
    }
   ],
   "source": [
    "'б) Вероятность выхода из строя 2 деталей'\n",
    "PB = 0.1 * 0.2 * 0.75 + 0.1 * 0.8 * 0.25 + 0.9 * 0.2 * 0.25\n",
    "PB"
   ]
  },
  {
   "cell_type": "markdown",
   "id": "05957e27",
   "metadata": {},
   "source": [
    "в) C - из строя вышла хотя бы одна деталь"
   ]
  },
  {
   "cell_type": "code",
   "execution_count": 28,
   "id": "7fa827c1",
   "metadata": {},
   "outputs": [
    {
     "data": {
      "text/plain": [
       "0.45999999999999996"
      ]
     },
     "execution_count": 28,
     "metadata": {},
     "output_type": "execute_result"
    }
   ],
   "source": [
    "'в) Вероятность выхода из строя хотя бы 1 детали'\n",
    "PC = 1 - 0.9 * 0.8 * 0.75\n",
    "PC"
   ]
  },
  {
   "cell_type": "markdown",
   "id": "9e2121bd",
   "metadata": {},
   "source": [
    "D1 - из строя вышла первая деталь\n",
    "D2 - из строя вышла вторая деталь\n",
    "D3 - из строя вышла третья деталь\n",
    "D - из строя вышла одна деталь\n",
    "Е = В + D - из строя вышло от одной до двух деталей"
   ]
  },
  {
   "cell_type": "code",
   "execution_count": 29,
   "id": "c4458dfe",
   "metadata": {},
   "outputs": [
    {
     "data": {
      "text/plain": [
       "0.08"
      ]
     },
     "execution_count": 29,
     "metadata": {},
     "output_type": "execute_result"
    }
   ],
   "source": [
    "PD = 0.9 * 0.2 * 0.25 + 0.1 * 0.8 * 0.25 + 0.1 * 0.2 * 0.75\n",
    "PD"
   ]
  },
  {
   "cell_type": "code",
   "execution_count": 30,
   "id": "1782dc95",
   "metadata": {},
   "outputs": [
    {
     "data": {
      "text/plain": [
       "0.16000000000000003"
      ]
     },
     "execution_count": 30,
     "metadata": {},
     "output_type": "execute_result"
    }
   ],
   "source": [
    "'Вероятность выхода из строя от 1 до 2 деталей'\n",
    "PE = PB + PD\n",
    "PE"
   ]
  },
  {
   "cell_type": "code",
   "execution_count": null,
   "id": "89a2caa2",
   "metadata": {},
   "outputs": [],
   "source": []
  }
 ],
 "metadata": {
  "kernelspec": {
   "display_name": "Python 3 (ipykernel)",
   "language": "python",
   "name": "python3"
  },
  "language_info": {
   "codemirror_mode": {
    "name": "ipython",
    "version": 3
   },
   "file_extension": ".py",
   "mimetype": "text/x-python",
   "name": "python",
   "nbconvert_exporter": "python",
   "pygments_lexer": "ipython3",
   "version": "3.9.13"
  }
 },
 "nbformat": 4,
 "nbformat_minor": 5
}
